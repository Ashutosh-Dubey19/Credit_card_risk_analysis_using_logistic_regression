{
 "cells": [
  {
   "cell_type": "code",
   "execution_count": 1,
   "id": "689d973a",
   "metadata": {},
   "outputs": [],
   "source": [
    "import pandas as pd , numpy as np"
   ]
  },
  {
   "cell_type": "code",
   "execution_count": 5,
   "id": "c4b83578",
   "metadata": {},
   "outputs": [
    {
     "data": {
      "text/plain": [
       "(1000, 15)"
      ]
     },
     "execution_count": 5,
     "metadata": {},
     "output_type": "execute_result"
    }
   ],
   "source": [
    "##  To Show all columns at a time\n",
    "pd.set_option('display.max_columns', None)\n",
    "\n",
    "\n",
    "## Read first appllicant csv file \n",
    "data1=pd.read_csv(\"d:/data/data/applicant.csv\")\n",
    "\n",
    "## Read first loan csv file \n",
    "\n",
    "data2=pd.read_csv(\"d:/data/data/loan.csv\")\n",
    "\n",
    "## First Datframe Shape\n",
    "data1.shape"
   ]
  },
  {
   "cell_type": "code",
   "execution_count": 6,
   "id": "1b771eca",
   "metadata": {},
   "outputs": [
    {
     "data": {
      "text/plain": [
       "(1000, 13)"
      ]
     },
     "execution_count": 6,
     "metadata": {},
     "output_type": "execute_result"
    }
   ],
   "source": [
    "## Second Dataframe shape\n",
    "data2.shape"
   ]
  },
  {
   "cell_type": "code",
   "execution_count": 7,
   "id": "2c3f74f4",
   "metadata": {},
   "outputs": [
    {
     "data": {
      "text/plain": [
       "(1000, 28)"
      ]
     },
     "execution_count": 7,
     "metadata": {},
     "output_type": "execute_result"
    }
   ],
   "source": [
    "## Concate two dataframe and made a new dataframe to check insights from datasets\n",
    "data3=pd.concat([data1,data2],axis=1)\n",
    "# New Dataframe shape\n",
    "data3.shape"
   ]
  },
  {
   "cell_type": "code",
   "execution_count": 8,
   "id": "7134fe2f",
   "metadata": {},
   "outputs": [],
   "source": [
    "# Drop Duplicate and Orginal Apllicant Id  \n",
    "data3.drop(['applicant_id'],axis=1,inplace=True)"
   ]
  },
  {
   "cell_type": "code",
   "execution_count": 9,
   "id": "96c28674",
   "metadata": {},
   "outputs": [
    {
     "data": {
      "text/plain": [
       "Primary_applicant_age_in_years                                0\n",
       "Gender                                                        0\n",
       "Marital_status                                                0\n",
       "Number_of_dependents                                          0\n",
       "Housing                                                       0\n",
       "Years_at_current_residence                                    0\n",
       "Employment_status                                             0\n",
       "Has_been_employed_for_at_least                               62\n",
       "Has_been_employed_for_at_most                               253\n",
       "Telephone                                                   596\n",
       "Foreign_worker                                                0\n",
       "Savings_account_balance                                     183\n",
       "Balance_in_existing_bank_account_(lower_limit_of_bucket)    668\n",
       "Balance_in_existing_bank_account_(upper_limit_of_bucket)    457\n",
       "loan_application_id                                           0\n",
       "Months_loan_taken_for                                         0\n",
       "Purpose                                                      12\n",
       "Principal_loan_amount                                         0\n",
       "EMI_rate_in_percentage_of_disposable_income                   0\n",
       "Property                                                    154\n",
       "Has_coapplicant                                               0\n",
       "Has_guarantor                                                 0\n",
       "Other_EMI_plans                                             814\n",
       "Number_of_existing_loans_at_this_bank                         0\n",
       "Loan_history                                                  0\n",
       "high_risk_applicant                                           0\n",
       "dtype: int64"
      ]
     },
     "execution_count": 9,
     "metadata": {},
     "output_type": "execute_result"
    }
   ],
   "source": [
    "data3.isna().sum()"
   ]
  },
  {
   "cell_type": "code",
   "execution_count": 10,
   "id": "9e544303",
   "metadata": {},
   "outputs": [],
   "source": [
    "data3.drop(['Telephone','Other_EMI_plans',],axis=1,inplace=True)"
   ]
  },
  {
   "cell_type": "code",
   "execution_count": 11,
   "id": "6617a367",
   "metadata": {},
   "outputs": [
    {
     "data": {
      "text/plain": [
       "Primary_applicant_age_in_years                                0\n",
       "Gender                                                        0\n",
       "Marital_status                                                0\n",
       "Number_of_dependents                                          0\n",
       "Housing                                                       0\n",
       "Years_at_current_residence                                    0\n",
       "Employment_status                                             0\n",
       "Has_been_employed_for_at_least                               62\n",
       "Has_been_employed_for_at_most                               253\n",
       "Foreign_worker                                                0\n",
       "Savings_account_balance                                     183\n",
       "Balance_in_existing_bank_account_(lower_limit_of_bucket)    668\n",
       "Balance_in_existing_bank_account_(upper_limit_of_bucket)    457\n",
       "loan_application_id                                           0\n",
       "Months_loan_taken_for                                         0\n",
       "Purpose                                                      12\n",
       "Principal_loan_amount                                         0\n",
       "EMI_rate_in_percentage_of_disposable_income                   0\n",
       "Property                                                    154\n",
       "Has_coapplicant                                               0\n",
       "Has_guarantor                                                 0\n",
       "Number_of_existing_loans_at_this_bank                         0\n",
       "Loan_history                                                  0\n",
       "high_risk_applicant                                           0\n",
       "dtype: int64"
      ]
     },
     "execution_count": 11,
     "metadata": {},
     "output_type": "execute_result"
    }
   ],
   "source": [
    "data3.isna().sum()"
   ]
  },
  {
   "cell_type": "code",
   "execution_count": 12,
   "id": "b9e1a798",
   "metadata": {},
   "outputs": [
    {
     "data": {
      "text/plain": [
       "array(['7 years', '1 year', '4 years', nan, '0 year'], dtype=object)"
      ]
     },
     "execution_count": 12,
     "metadata": {},
     "output_type": "execute_result"
    }
   ],
   "source": [
    "data3[\"Has_been_employed_for_at_least\"].unique()"
   ]
  },
  {
   "cell_type": "code",
   "execution_count": 13,
   "id": "3d259d0b",
   "metadata": {},
   "outputs": [
    {
     "data": {
      "text/plain": [
       "array([nan, '4 years', '7 years', '0 year', '1 year'], dtype=object)"
      ]
     },
     "execution_count": 13,
     "metadata": {},
     "output_type": "execute_result"
    }
   ],
   "source": [
    "data3[\"Has_been_employed_for_at_most\"].unique()"
   ]
  },
  {
   "cell_type": "code",
   "execution_count": 14,
   "id": "32c058c9",
   "metadata": {},
   "outputs": [
    {
     "data": {
      "text/plain": [
       "array(['7 years', '1 year', '4 years', '0 year'], dtype=object)"
      ]
     },
     "execution_count": 14,
     "metadata": {},
     "output_type": "execute_result"
    }
   ],
   "source": [
    "data3['Has_been_employed_for_at_least'].fillna('0 year',inplace=True)\n",
    "data3[\"Has_been_employed_for_at_least\"].unique()"
   ]
  },
  {
   "cell_type": "code",
   "execution_count": 15,
   "id": "22fe6f96",
   "metadata": {},
   "outputs": [
    {
     "data": {
      "text/plain": [
       "array(['0 year', '4 years', '7 years', '1 year'], dtype=object)"
      ]
     },
     "execution_count": 15,
     "metadata": {},
     "output_type": "execute_result"
    }
   ],
   "source": [
    "data3['Has_been_employed_for_at_most'].fillna('0 year',inplace=True)\n",
    "data3[\"Has_been_employed_for_at_most\"].unique()"
   ]
  },
  {
   "cell_type": "code",
   "execution_count": 16,
   "id": "4612be83",
   "metadata": {},
   "outputs": [],
   "source": [
    "df_1= data3[\"Has_been_employed_for_at_least\"].str.split(\" \", n = 1, expand = True)\n",
    "df_2 = data3[\"Has_been_employed_for_at_most\"].str.split(\" \", n = 1, expand = True)\n",
    "data3[\"Has_been_employed_for_at_least\"] = df_1[0].astype(int)\n",
    "data3[\"Has_been_employed_for_at_most\"] = df_2[0].astype(int)\n"
   ]
  },
  {
   "cell_type": "code",
   "execution_count": 17,
   "id": "962e5962",
   "metadata": {},
   "outputs": [
    {
     "data": {
      "text/plain": [
       "Primary_applicant_age_in_years                                0\n",
       "Gender                                                        0\n",
       "Marital_status                                                0\n",
       "Number_of_dependents                                          0\n",
       "Housing                                                       0\n",
       "Years_at_current_residence                                    0\n",
       "Employment_status                                             0\n",
       "Has_been_employed_for_at_least                                0\n",
       "Has_been_employed_for_at_most                                 0\n",
       "Foreign_worker                                                0\n",
       "Savings_account_balance                                     183\n",
       "Balance_in_existing_bank_account_(lower_limit_of_bucket)    668\n",
       "Balance_in_existing_bank_account_(upper_limit_of_bucket)    457\n",
       "loan_application_id                                           0\n",
       "Months_loan_taken_for                                         0\n",
       "Purpose                                                      12\n",
       "Principal_loan_amount                                         0\n",
       "EMI_rate_in_percentage_of_disposable_income                   0\n",
       "Property                                                    154\n",
       "Has_coapplicant                                               0\n",
       "Has_guarantor                                                 0\n",
       "Number_of_existing_loans_at_this_bank                         0\n",
       "Loan_history                                                  0\n",
       "high_risk_applicant                                           0\n",
       "dtype: int64"
      ]
     },
     "execution_count": 17,
     "metadata": {},
     "output_type": "execute_result"
    }
   ],
   "source": [
    "data3.isna().sum()"
   ]
  },
  {
   "cell_type": "code",
   "execution_count": 18,
   "id": "e2a6f424",
   "metadata": {},
   "outputs": [
    {
     "data": {
      "text/plain": [
       "array([nan, 'Low', 'High', 'Very high', 'Medium'], dtype=object)"
      ]
     },
     "execution_count": 18,
     "metadata": {},
     "output_type": "execute_result"
    }
   ],
   "source": [
    "data3[\"Savings_account_balance\"].unique()"
   ]
  },
  {
   "cell_type": "code",
   "execution_count": 19,
   "id": "492dc149",
   "metadata": {},
   "outputs": [
    {
     "data": {
      "text/plain": [
       "array([nan, '0', '2 lac'], dtype=object)"
      ]
     },
     "execution_count": 19,
     "metadata": {},
     "output_type": "execute_result"
    }
   ],
   "source": [
    "data3['Balance_in_existing_bank_account_(lower_limit_of_bucket)'].unique()"
   ]
  },
  {
   "cell_type": "code",
   "execution_count": 20,
   "id": "6e4847e4",
   "metadata": {},
   "outputs": [
    {
     "data": {
      "text/plain": [
       "array(['0', '2 lac', nan], dtype=object)"
      ]
     },
     "execution_count": 20,
     "metadata": {},
     "output_type": "execute_result"
    }
   ],
   "source": [
    "data3['Balance_in_existing_bank_account_(upper_limit_of_bucket)'].unique()"
   ]
  },
  {
   "cell_type": "code",
   "execution_count": 21,
   "id": "de199fd2",
   "metadata": {},
   "outputs": [
    {
     "data": {
      "text/html": [
       "<div>\n",
       "<style scoped>\n",
       "    .dataframe tbody tr th:only-of-type {\n",
       "        vertical-align: middle;\n",
       "    }\n",
       "\n",
       "    .dataframe tbody tr th {\n",
       "        vertical-align: top;\n",
       "    }\n",
       "\n",
       "    .dataframe thead th {\n",
       "        text-align: right;\n",
       "    }\n",
       "</style>\n",
       "<table border=\"1\" class=\"dataframe\">\n",
       "  <thead>\n",
       "    <tr style=\"text-align: right;\">\n",
       "      <th></th>\n",
       "      <th>Balance_in_existing_bank_account_(lower_limit_of_bucket)</th>\n",
       "      <th>Balance_in_existing_bank_account_(upper_limit_of_bucket)</th>\n",
       "    </tr>\n",
       "  </thead>\n",
       "  <tbody>\n",
       "    <tr>\n",
       "      <th>980</th>\n",
       "      <td>0</td>\n",
       "      <td>2 lac</td>\n",
       "    </tr>\n",
       "    <tr>\n",
       "      <th>981</th>\n",
       "      <td>NaN</td>\n",
       "      <td>NaN</td>\n",
       "    </tr>\n",
       "    <tr>\n",
       "      <th>982</th>\n",
       "      <td>2 lac</td>\n",
       "      <td>NaN</td>\n",
       "    </tr>\n",
       "    <tr>\n",
       "      <th>983</th>\n",
       "      <td>NaN</td>\n",
       "      <td>0</td>\n",
       "    </tr>\n",
       "    <tr>\n",
       "      <th>984</th>\n",
       "      <td>NaN</td>\n",
       "      <td>NaN</td>\n",
       "    </tr>\n",
       "    <tr>\n",
       "      <th>985</th>\n",
       "      <td>NaN</td>\n",
       "      <td>0</td>\n",
       "    </tr>\n",
       "    <tr>\n",
       "      <th>986</th>\n",
       "      <td>2 lac</td>\n",
       "      <td>NaN</td>\n",
       "    </tr>\n",
       "    <tr>\n",
       "      <th>987</th>\n",
       "      <td>NaN</td>\n",
       "      <td>NaN</td>\n",
       "    </tr>\n",
       "    <tr>\n",
       "      <th>988</th>\n",
       "      <td>NaN</td>\n",
       "      <td>0</td>\n",
       "    </tr>\n",
       "    <tr>\n",
       "      <th>989</th>\n",
       "      <td>0</td>\n",
       "      <td>2 lac</td>\n",
       "    </tr>\n",
       "    <tr>\n",
       "      <th>990</th>\n",
       "      <td>NaN</td>\n",
       "      <td>NaN</td>\n",
       "    </tr>\n",
       "    <tr>\n",
       "      <th>991</th>\n",
       "      <td>NaN</td>\n",
       "      <td>NaN</td>\n",
       "    </tr>\n",
       "    <tr>\n",
       "      <th>992</th>\n",
       "      <td>NaN</td>\n",
       "      <td>0</td>\n",
       "    </tr>\n",
       "    <tr>\n",
       "      <th>993</th>\n",
       "      <td>NaN</td>\n",
       "      <td>0</td>\n",
       "    </tr>\n",
       "    <tr>\n",
       "      <th>994</th>\n",
       "      <td>NaN</td>\n",
       "      <td>NaN</td>\n",
       "    </tr>\n",
       "    <tr>\n",
       "      <th>995</th>\n",
       "      <td>NaN</td>\n",
       "      <td>NaN</td>\n",
       "    </tr>\n",
       "    <tr>\n",
       "      <th>996</th>\n",
       "      <td>NaN</td>\n",
       "      <td>0</td>\n",
       "    </tr>\n",
       "    <tr>\n",
       "      <th>997</th>\n",
       "      <td>NaN</td>\n",
       "      <td>NaN</td>\n",
       "    </tr>\n",
       "    <tr>\n",
       "      <th>998</th>\n",
       "      <td>NaN</td>\n",
       "      <td>0</td>\n",
       "    </tr>\n",
       "    <tr>\n",
       "      <th>999</th>\n",
       "      <td>0</td>\n",
       "      <td>2 lac</td>\n",
       "    </tr>\n",
       "  </tbody>\n",
       "</table>\n",
       "</div>"
      ],
      "text/plain": [
       "    Balance_in_existing_bank_account_(lower_limit_of_bucket)  \\\n",
       "980                                                  0         \n",
       "981                                                NaN         \n",
       "982                                              2 lac         \n",
       "983                                                NaN         \n",
       "984                                                NaN         \n",
       "985                                                NaN         \n",
       "986                                              2 lac         \n",
       "987                                                NaN         \n",
       "988                                                NaN         \n",
       "989                                                  0         \n",
       "990                                                NaN         \n",
       "991                                                NaN         \n",
       "992                                                NaN         \n",
       "993                                                NaN         \n",
       "994                                                NaN         \n",
       "995                                                NaN         \n",
       "996                                                NaN         \n",
       "997                                                NaN         \n",
       "998                                                NaN         \n",
       "999                                                  0         \n",
       "\n",
       "    Balance_in_existing_bank_account_(upper_limit_of_bucket)  \n",
       "980                                              2 lac        \n",
       "981                                                NaN        \n",
       "982                                                NaN        \n",
       "983                                                  0        \n",
       "984                                                NaN        \n",
       "985                                                  0        \n",
       "986                                                NaN        \n",
       "987                                                NaN        \n",
       "988                                                  0        \n",
       "989                                              2 lac        \n",
       "990                                                NaN        \n",
       "991                                                NaN        \n",
       "992                                                  0        \n",
       "993                                                  0        \n",
       "994                                                NaN        \n",
       "995                                                NaN        \n",
       "996                                                  0        \n",
       "997                                                NaN        \n",
       "998                                                  0        \n",
       "999                                              2 lac        "
      ]
     },
     "execution_count": 21,
     "metadata": {},
     "output_type": "execute_result"
    }
   ],
   "source": [
    "data3[[\"Balance_in_existing_bank_account_(lower_limit_of_bucket)\",\"Balance_in_existing_bank_account_(upper_limit_of_bucket)\"]].tail(20)"
   ]
  },
  {
   "cell_type": "code",
   "execution_count": 22,
   "id": "53a50729",
   "metadata": {},
   "outputs": [],
   "source": [
    "data3['Balance_in_existing_bank_account_(lower_limit_of_bucket)'].fillna('0 lac',inplace=True)\n",
    "data3['Balance_in_existing_bank_account_(upper_limit_of_bucket)'].fillna('0 lac',inplace=True)\n",
    "\n",
    "\n",
    "df_up= data3[\"Balance_in_existing_bank_account_(upper_limit_of_bucket)\"].str.split(\" \", n = 1, expand = True)\n",
    "df_lo = data3[\"Balance_in_existing_bank_account_(lower_limit_of_bucket)\"].str.split(\" \", n = 1, expand = True)\n",
    "data3[\"Balance_in_existing_bank_account_(upper_limit_of_bucket)\"] = df_up[0].astype(int)\n",
    "data3[\"Balance_in_existing_bank_account_(lower_limit_of_bucket)\"] = df_lo[0].astype(int)"
   ]
  },
  {
   "cell_type": "code",
   "execution_count": 23,
   "id": "a30530e3",
   "metadata": {},
   "outputs": [
    {
     "data": {
      "text/plain": [
       "Primary_applicant_age_in_years                                0\n",
       "Gender                                                        0\n",
       "Marital_status                                                0\n",
       "Number_of_dependents                                          0\n",
       "Housing                                                       0\n",
       "Years_at_current_residence                                    0\n",
       "Employment_status                                             0\n",
       "Has_been_employed_for_at_least                                0\n",
       "Has_been_employed_for_at_most                                 0\n",
       "Foreign_worker                                                0\n",
       "Savings_account_balance                                     183\n",
       "Balance_in_existing_bank_account_(lower_limit_of_bucket)      0\n",
       "Balance_in_existing_bank_account_(upper_limit_of_bucket)      0\n",
       "loan_application_id                                           0\n",
       "Months_loan_taken_for                                         0\n",
       "Purpose                                                      12\n",
       "Principal_loan_amount                                         0\n",
       "EMI_rate_in_percentage_of_disposable_income                   0\n",
       "Property                                                    154\n",
       "Has_coapplicant                                               0\n",
       "Has_guarantor                                                 0\n",
       "Number_of_existing_loans_at_this_bank                         0\n",
       "Loan_history                                                  0\n",
       "high_risk_applicant                                           0\n",
       "dtype: int64"
      ]
     },
     "execution_count": 23,
     "metadata": {},
     "output_type": "execute_result"
    }
   ],
   "source": [
    "data3.isna().sum()"
   ]
  },
  {
   "cell_type": "code",
   "execution_count": 24,
   "id": "af22e0c9",
   "metadata": {},
   "outputs": [],
   "source": [
    "data4 = data3.copy()"
   ]
  },
  {
   "cell_type": "code",
   "execution_count": 25,
   "id": "2d33708f",
   "metadata": {},
   "outputs": [
    {
     "data": {
      "text/plain": [
       "array([nan, 'Low', 'High', 'Very high', 'Medium'], dtype=object)"
      ]
     },
     "execution_count": 25,
     "metadata": {},
     "output_type": "execute_result"
    }
   ],
   "source": [
    "data4['Savings_account_balance'].unique()"
   ]
  },
  {
   "cell_type": "code",
   "execution_count": 26,
   "id": "2e62dbd1",
   "metadata": {},
   "outputs": [
    {
     "data": {
      "text/html": [
       "<div>\n",
       "<style scoped>\n",
       "    .dataframe tbody tr th:only-of-type {\n",
       "        vertical-align: middle;\n",
       "    }\n",
       "\n",
       "    .dataframe tbody tr th {\n",
       "        vertical-align: top;\n",
       "    }\n",
       "\n",
       "    .dataframe thead th {\n",
       "        text-align: right;\n",
       "    }\n",
       "</style>\n",
       "<table border=\"1\" class=\"dataframe\">\n",
       "  <thead>\n",
       "    <tr style=\"text-align: right;\">\n",
       "      <th></th>\n",
       "      <th>Savings_account_balance</th>\n",
       "      <th>Balance_in_existing_bank_account_(lower_limit_of_bucket)</th>\n",
       "    </tr>\n",
       "  </thead>\n",
       "  <tbody>\n",
       "    <tr>\n",
       "      <th>0</th>\n",
       "      <td>NaN</td>\n",
       "      <td>0</td>\n",
       "    </tr>\n",
       "    <tr>\n",
       "      <th>1</th>\n",
       "      <td>Low</td>\n",
       "      <td>0</td>\n",
       "    </tr>\n",
       "    <tr>\n",
       "      <th>2</th>\n",
       "      <td>Low</td>\n",
       "      <td>0</td>\n",
       "    </tr>\n",
       "    <tr>\n",
       "      <th>3</th>\n",
       "      <td>Low</td>\n",
       "      <td>0</td>\n",
       "    </tr>\n",
       "    <tr>\n",
       "      <th>4</th>\n",
       "      <td>Low</td>\n",
       "      <td>0</td>\n",
       "    </tr>\n",
       "    <tr>\n",
       "      <th>...</th>\n",
       "      <td>...</td>\n",
       "      <td>...</td>\n",
       "    </tr>\n",
       "    <tr>\n",
       "      <th>995</th>\n",
       "      <td>Low</td>\n",
       "      <td>0</td>\n",
       "    </tr>\n",
       "    <tr>\n",
       "      <th>996</th>\n",
       "      <td>Low</td>\n",
       "      <td>0</td>\n",
       "    </tr>\n",
       "    <tr>\n",
       "      <th>997</th>\n",
       "      <td>Low</td>\n",
       "      <td>0</td>\n",
       "    </tr>\n",
       "    <tr>\n",
       "      <th>998</th>\n",
       "      <td>Low</td>\n",
       "      <td>0</td>\n",
       "    </tr>\n",
       "    <tr>\n",
       "      <th>999</th>\n",
       "      <td>Medium</td>\n",
       "      <td>0</td>\n",
       "    </tr>\n",
       "  </tbody>\n",
       "</table>\n",
       "<p>1000 rows × 2 columns</p>\n",
       "</div>"
      ],
      "text/plain": [
       "    Savings_account_balance  \\\n",
       "0                       NaN   \n",
       "1                       Low   \n",
       "2                       Low   \n",
       "3                       Low   \n",
       "4                       Low   \n",
       "..                      ...   \n",
       "995                     Low   \n",
       "996                     Low   \n",
       "997                     Low   \n",
       "998                     Low   \n",
       "999                  Medium   \n",
       "\n",
       "     Balance_in_existing_bank_account_(lower_limit_of_bucket)  \n",
       "0                                                    0         \n",
       "1                                                    0         \n",
       "2                                                    0         \n",
       "3                                                    0         \n",
       "4                                                    0         \n",
       "..                                                 ...         \n",
       "995                                                  0         \n",
       "996                                                  0         \n",
       "997                                                  0         \n",
       "998                                                  0         \n",
       "999                                                  0         \n",
       "\n",
       "[1000 rows x 2 columns]"
      ]
     },
     "execution_count": 26,
     "metadata": {},
     "output_type": "execute_result"
    }
   ],
   "source": [
    "data4[['Savings_account_balance','Balance_in_existing_bank_account_(lower_limit_of_bucket)']]"
   ]
  },
  {
   "cell_type": "code",
   "execution_count": null,
   "id": "2b0a7f04",
   "metadata": {},
   "outputs": [],
   "source": []
  },
  {
   "cell_type": "code",
   "execution_count": 27,
   "id": "16e1ec8d",
   "metadata": {},
   "outputs": [],
   "source": [
    "data5 = data4[data4['Savings_account_balance'].isna()]"
   ]
  },
  {
   "cell_type": "code",
   "execution_count": 28,
   "id": "f9c5e51d",
   "metadata": {},
   "outputs": [
    {
     "data": {
      "text/html": [
       "<div>\n",
       "<style scoped>\n",
       "    .dataframe tbody tr th:only-of-type {\n",
       "        vertical-align: middle;\n",
       "    }\n",
       "\n",
       "    .dataframe tbody tr th {\n",
       "        vertical-align: top;\n",
       "    }\n",
       "\n",
       "    .dataframe thead th {\n",
       "        text-align: right;\n",
       "    }\n",
       "</style>\n",
       "<table border=\"1\" class=\"dataframe\">\n",
       "  <thead>\n",
       "    <tr style=\"text-align: right;\">\n",
       "      <th></th>\n",
       "      <th>Savings_account_balance</th>\n",
       "      <th>Balance_in_existing_bank_account_(lower_limit_of_bucket)</th>\n",
       "    </tr>\n",
       "  </thead>\n",
       "  <tbody>\n",
       "    <tr>\n",
       "      <th>0</th>\n",
       "      <td>NaN</td>\n",
       "      <td>0</td>\n",
       "    </tr>\n",
       "    <tr>\n",
       "      <th>5</th>\n",
       "      <td>NaN</td>\n",
       "      <td>0</td>\n",
       "    </tr>\n",
       "    <tr>\n",
       "      <th>16</th>\n",
       "      <td>NaN</td>\n",
       "      <td>0</td>\n",
       "    </tr>\n",
       "    <tr>\n",
       "      <th>17</th>\n",
       "      <td>NaN</td>\n",
       "      <td>0</td>\n",
       "    </tr>\n",
       "    <tr>\n",
       "      <th>24</th>\n",
       "      <td>NaN</td>\n",
       "      <td>0</td>\n",
       "    </tr>\n",
       "    <tr>\n",
       "      <th>...</th>\n",
       "      <td>...</td>\n",
       "      <td>...</td>\n",
       "    </tr>\n",
       "    <tr>\n",
       "      <th>968</th>\n",
       "      <td>NaN</td>\n",
       "      <td>0</td>\n",
       "    </tr>\n",
       "    <tr>\n",
       "      <th>977</th>\n",
       "      <td>NaN</td>\n",
       "      <td>0</td>\n",
       "    </tr>\n",
       "    <tr>\n",
       "      <th>990</th>\n",
       "      <td>NaN</td>\n",
       "      <td>0</td>\n",
       "    </tr>\n",
       "    <tr>\n",
       "      <th>992</th>\n",
       "      <td>NaN</td>\n",
       "      <td>0</td>\n",
       "    </tr>\n",
       "    <tr>\n",
       "      <th>994</th>\n",
       "      <td>NaN</td>\n",
       "      <td>0</td>\n",
       "    </tr>\n",
       "  </tbody>\n",
       "</table>\n",
       "<p>183 rows × 2 columns</p>\n",
       "</div>"
      ],
      "text/plain": [
       "    Savings_account_balance  \\\n",
       "0                       NaN   \n",
       "5                       NaN   \n",
       "16                      NaN   \n",
       "17                      NaN   \n",
       "24                      NaN   \n",
       "..                      ...   \n",
       "968                     NaN   \n",
       "977                     NaN   \n",
       "990                     NaN   \n",
       "992                     NaN   \n",
       "994                     NaN   \n",
       "\n",
       "     Balance_in_existing_bank_account_(lower_limit_of_bucket)  \n",
       "0                                                    0         \n",
       "5                                                    0         \n",
       "16                                                   0         \n",
       "17                                                   0         \n",
       "24                                                   0         \n",
       "..                                                 ...         \n",
       "968                                                  0         \n",
       "977                                                  0         \n",
       "990                                                  0         \n",
       "992                                                  0         \n",
       "994                                                  0         \n",
       "\n",
       "[183 rows x 2 columns]"
      ]
     },
     "execution_count": 28,
     "metadata": {},
     "output_type": "execute_result"
    }
   ],
   "source": [
    "data5[['Savings_account_balance','Balance_in_existing_bank_account_(lower_limit_of_bucket)']]"
   ]
  },
  {
   "cell_type": "code",
   "execution_count": 29,
   "id": "cedd88d5",
   "metadata": {},
   "outputs": [
    {
     "data": {
      "text/plain": [
       "0    173\n",
       "2     10\n",
       "Name: Balance_in_existing_bank_account_(lower_limit_of_bucket), dtype: int64"
      ]
     },
     "execution_count": 29,
     "metadata": {},
     "output_type": "execute_result"
    }
   ],
   "source": [
    "data5['Balance_in_existing_bank_account_(lower_limit_of_bucket)'].value_counts()"
   ]
  },
  {
   "cell_type": "code",
   "execution_count": 30,
   "id": "75fc401f",
   "metadata": {},
   "outputs": [],
   "source": [
    "data4['Savings_account_balance'].fillna('Low',inplace=True)"
   ]
  },
  {
   "cell_type": "code",
   "execution_count": 31,
   "id": "91246a4c",
   "metadata": {},
   "outputs": [
    {
     "data": {
      "text/plain": [
       "array(['Low', 'High', 'Very high', 'Medium'], dtype=object)"
      ]
     },
     "execution_count": 31,
     "metadata": {},
     "output_type": "execute_result"
    }
   ],
   "source": [
    "data4['Savings_account_balance'].unique()"
   ]
  },
  {
   "cell_type": "code",
   "execution_count": 32,
   "id": "666ffc2a",
   "metadata": {},
   "outputs": [
    {
     "data": {
      "text/plain": [
       "Primary_applicant_age_in_years                                0\n",
       "Gender                                                        0\n",
       "Marital_status                                                0\n",
       "Number_of_dependents                                          0\n",
       "Housing                                                       0\n",
       "Years_at_current_residence                                    0\n",
       "Employment_status                                             0\n",
       "Has_been_employed_for_at_least                                0\n",
       "Has_been_employed_for_at_most                                 0\n",
       "Foreign_worker                                                0\n",
       "Savings_account_balance                                       0\n",
       "Balance_in_existing_bank_account_(lower_limit_of_bucket)      0\n",
       "Balance_in_existing_bank_account_(upper_limit_of_bucket)      0\n",
       "loan_application_id                                           0\n",
       "Months_loan_taken_for                                         0\n",
       "Purpose                                                      12\n",
       "Principal_loan_amount                                         0\n",
       "EMI_rate_in_percentage_of_disposable_income                   0\n",
       "Property                                                    154\n",
       "Has_coapplicant                                               0\n",
       "Has_guarantor                                                 0\n",
       "Number_of_existing_loans_at_this_bank                         0\n",
       "Loan_history                                                  0\n",
       "high_risk_applicant                                           0\n",
       "dtype: int64"
      ]
     },
     "execution_count": 32,
     "metadata": {},
     "output_type": "execute_result"
    }
   ],
   "source": [
    "data4.isna().sum()"
   ]
  },
  {
   "cell_type": "code",
   "execution_count": 33,
   "id": "54bbc5cc",
   "metadata": {},
   "outputs": [
    {
     "data": {
      "text/plain": [
       "electronic equipment    280\n",
       "new vehicle             234\n",
       "FF&E                    181\n",
       "used vehicle            103\n",
       "business                 97\n",
       "education                50\n",
       "repair costs             22\n",
       "domestic appliances      12\n",
       "career development        9\n",
       "Name: Purpose, dtype: int64"
      ]
     },
     "execution_count": 33,
     "metadata": {},
     "output_type": "execute_result"
    }
   ],
   "source": [
    "data4['Purpose'].value_counts()"
   ]
  },
  {
   "cell_type": "code",
   "execution_count": 34,
   "id": "e0e82376",
   "metadata": {},
   "outputs": [],
   "source": [
    "data4['Purpose'].fillna('electronic equipment',inplace=True) # because of mode value is electric equipment"
   ]
  },
  {
   "cell_type": "code",
   "execution_count": 35,
   "id": "d292a977",
   "metadata": {},
   "outputs": [
    {
     "data": {
      "text/plain": [
       "car or other                                         332\n",
       "real estate                                          282\n",
       "building society savings agreement/life insurance    232\n",
       "Name: Property, dtype: int64"
      ]
     },
     "execution_count": 35,
     "metadata": {},
     "output_type": "execute_result"
    }
   ],
   "source": [
    "data4['Property'].value_counts()   # contains 154 none values"
   ]
  },
  {
   "cell_type": "code",
   "execution_count": 36,
   "id": "23d78445",
   "metadata": {},
   "outputs": [],
   "source": [
    "data4['Property'].fillna('car or other',inplace=True)"
   ]
  },
  {
   "cell_type": "code",
   "execution_count": 35,
   "id": "a91516ee",
   "metadata": {},
   "outputs": [
    {
     "data": {
      "text/plain": [
       "Primary_applicant_age_in_years                              0\n",
       "Gender                                                      0\n",
       "Marital_status                                              0\n",
       "Number_of_dependents                                        0\n",
       "Housing                                                     0\n",
       "Years_at_current_residence                                  0\n",
       "Employment_status                                           0\n",
       "Has_been_employed_for_at_least                              0\n",
       "Has_been_employed_for_at_most                               0\n",
       "Foreign_worker                                              0\n",
       "Savings_account_balance                                     0\n",
       "Balance_in_existing_bank_account_(lower_limit_of_bucket)    0\n",
       "Balance_in_existing_bank_account_(upper_limit_of_bucket)    0\n",
       "loan_application_id                                         0\n",
       "Months_loan_taken_for                                       0\n",
       "Purpose                                                     0\n",
       "Principal_loan_amount                                       0\n",
       "EMI_rate_in_percentage_of_disposable_income                 0\n",
       "Property                                                    0\n",
       "Has_coapplicant                                             0\n",
       "Has_guarantor                                               0\n",
       "Number_of_existing_loans_at_this_bank                       0\n",
       "Loan_history                                                0\n",
       "high_risk_applicant                                         0\n",
       "dtype: int64"
      ]
     },
     "execution_count": 35,
     "metadata": {},
     "output_type": "execute_result"
    }
   ],
   "source": [
    "data4.isna().sum()"
   ]
  },
  {
   "cell_type": "code",
   "execution_count": 37,
   "id": "badbee59",
   "metadata": {},
   "outputs": [
    {
     "data": {
      "text/plain": [
       "<AxesSubplot:>"
      ]
     },
     "execution_count": 37,
     "metadata": {},
     "output_type": "execute_result"
    },
    {
     "data": {
      "image/png": "[encoded data removed]",
      "text/plain": [
       "<Figure size 1440x720 with 2 Axes>"
      ]
     },
     "metadata": {
      "needs_background": "light"
     },
     "output_type": "display_data"
    }
   ],
   "source": [
    "import seaborn as sns\n",
    "from matplotlib import pyplot as plt\n",
    "# figsize=(20, 20)\n",
    "corr = data4.corr()\n",
    "plt.figure(figsize=(20,10))\n",
    "sns.heatmap(corr, cmap=\"Reds\", annot=True)"
   ]
  },
  {
   "cell_type": "code",
   "execution_count": 38,
   "id": "aec2c3c2",
   "metadata": {},
   "outputs": [
    {
     "name": "stderr",
     "output_type": "stream",
     "text": [
      "C:\\Users\\avive\\anaconda3\\lib\\site-packages\\seaborn\\_decorators.py:36: FutureWarning: Pass the following variables as keyword args: x, y. From version 0.12, the only valid positional argument will be `data`, and passing other arguments without an explicit keyword will result in an error or misinterpretation.\n",
      "  warnings.warn(\n"
     ]
    },
    {
     "data": {
      "image/png": "[encoded data removed]",
      "text/plain": [
       "<Figure size 1440x720 with 1 Axes>"
      ]
     },
     "metadata": {},
     "output_type": "display_data"
    }
   ],
   "source": [
    "sns.set_style('darkgrid')\n",
    "\n",
    "x = data4['Gender']\n",
    "y = data4['high_risk_applicant']\n",
    "plt.figure(figsize=(20,10))\n",
    "sns.barplot(x, y)\n",
    "plt.show()"
   ]
  },
  {
   "cell_type": "code",
   "execution_count": 39,
   "id": "490508ff",
   "metadata": {},
   "outputs": [
    {
     "name": "stderr",
     "output_type": "stream",
     "text": [
      "C:\\Users\\avive\\anaconda3\\lib\\site-packages\\seaborn\\_decorators.py:36: FutureWarning: Pass the following variables as keyword args: x, y. From version 0.12, the only valid positional argument will be `data`, and passing other arguments without an explicit keyword will result in an error or misinterpretation.\n",
      "  warnings.warn(\n"
     ]
    },
    {
     "data": {
      "image/png": "[encoded data removed]",
      "text/plain": [
       "<Figure size 1440x720 with 1 Axes>"
      ]
     },
     "metadata": {},
     "output_type": "display_data"
    }
   ],
   "source": [
    "sns.set_style('darkgrid')\n",
    "\n",
    "x = data4['Employment_status']\n",
    "y = data4['high_risk_applicant']\n",
    "plt.figure(figsize=(20,10))\n",
    "sns.barplot(x, y)\n",
    "plt.show()"
   ]
  },
  {
   "cell_type": "code",
   "execution_count": 39,
   "id": "2812eec8",
   "metadata": {},
   "outputs": [
    {
     "name": "stderr",
     "output_type": "stream",
     "text": [
      "c:\\ProgramData\\Anaconda3\\lib\\site-packages\\seaborn\\_decorators.py:36: FutureWarning: Pass the following variables as keyword args: x, y. From version 0.12, the only valid positional argument will be `data`, and passing other arguments without an explicit keyword will result in an error or misinterpretation.\n",
      "  warnings.warn(\n"
     ]
    },
    {
     "data": {
      "image/png": "[encoded data removed]",
      "text/plain": [
       "<Figure size 1440x720 with 1 Axes>"
      ]
     },
     "metadata": {},
     "output_type": "display_data"
    }
   ],
   "source": [
    "sns.set_style('darkgrid')\n",
    "\n",
    "x = data4['Savings_account_balance']\n",
    "y = data4['high_risk_applicant']\n",
    "plt.figure(figsize=(20,10))\n",
    "sns.barplot(x, y)\n",
    "plt.show()"
   ]
  },
  {
   "cell_type": "code",
   "execution_count": 40,
   "id": "570097ce",
   "metadata": {},
   "outputs": [
    {
     "data": {
      "text/html": [
       "<div>\n",
       "<style scoped>\n",
       "    .dataframe tbody tr th:only-of-type {\n",
       "        vertical-align: middle;\n",
       "    }\n",
       "\n",
       "    .dataframe tbody tr th {\n",
       "        vertical-align: top;\n",
       "    }\n",
       "\n",
       "    .dataframe thead th {\n",
       "        text-align: right;\n",
       "    }\n",
       "</style>\n",
       "<table border=\"1\" class=\"dataframe\">\n",
       "  <thead>\n",
       "    <tr style=\"text-align: right;\">\n",
       "      <th></th>\n",
       "      <th>Primary_applicant_age_in_years</th>\n",
       "      <th>Gender</th>\n",
       "      <th>Marital_status</th>\n",
       "      <th>Number_of_dependents</th>\n",
       "      <th>Housing</th>\n",
       "      <th>Years_at_current_residence</th>\n",
       "      <th>Employment_status</th>\n",
       "      <th>Has_been_employed_for_at_least</th>\n",
       "      <th>Has_been_employed_for_at_most</th>\n",
       "      <th>Foreign_worker</th>\n",
       "      <th>Savings_account_balance</th>\n",
       "      <th>Balance_in_existing_bank_account_(lower_limit_of_bucket)</th>\n",
       "      <th>Balance_in_existing_bank_account_(upper_limit_of_bucket)</th>\n",
       "      <th>loan_application_id</th>\n",
       "      <th>Months_loan_taken_for</th>\n",
       "      <th>Purpose</th>\n",
       "      <th>Principal_loan_amount</th>\n",
       "      <th>EMI_rate_in_percentage_of_disposable_income</th>\n",
       "      <th>Property</th>\n",
       "      <th>Has_coapplicant</th>\n",
       "      <th>Has_guarantor</th>\n",
       "      <th>Number_of_existing_loans_at_this_bank</th>\n",
       "      <th>Loan_history</th>\n",
       "      <th>high_risk_applicant</th>\n",
       "    </tr>\n",
       "  </thead>\n",
       "  <tbody>\n",
       "    <tr>\n",
       "      <th>0</th>\n",
       "      <td>67</td>\n",
       "      <td>male</td>\n",
       "      <td>single</td>\n",
       "      <td>1</td>\n",
       "      <td>own</td>\n",
       "      <td>4</td>\n",
       "      <td>skilled employee / official</td>\n",
       "      <td>7</td>\n",
       "      <td>0</td>\n",
       "      <td>1</td>\n",
       "      <td>Low</td>\n",
       "      <td>0</td>\n",
       "      <td>0</td>\n",
       "      <td>d68d975e-edad-11ea-8761-1d6f9c1ff461</td>\n",
       "      <td>6</td>\n",
       "      <td>electronic equipment</td>\n",
       "      <td>1169000</td>\n",
       "      <td>4</td>\n",
       "      <td>real estate</td>\n",
       "      <td>0</td>\n",
       "      <td>0</td>\n",
       "      <td>2</td>\n",
       "      <td>critical/pending loans at other banks</td>\n",
       "      <td>0</td>\n",
       "    </tr>\n",
       "    <tr>\n",
       "      <th>1</th>\n",
       "      <td>22</td>\n",
       "      <td>female</td>\n",
       "      <td>divorced/separated/married</td>\n",
       "      <td>1</td>\n",
       "      <td>own</td>\n",
       "      <td>2</td>\n",
       "      <td>skilled employee / official</td>\n",
       "      <td>1</td>\n",
       "      <td>4</td>\n",
       "      <td>1</td>\n",
       "      <td>Low</td>\n",
       "      <td>0</td>\n",
       "      <td>2</td>\n",
       "      <td>d68d989e-edad-11ea-b1d5-2bcf65006448</td>\n",
       "      <td>48</td>\n",
       "      <td>electronic equipment</td>\n",
       "      <td>5951000</td>\n",
       "      <td>2</td>\n",
       "      <td>real estate</td>\n",
       "      <td>0</td>\n",
       "      <td>0</td>\n",
       "      <td>1</td>\n",
       "      <td>existing loans paid back duly till now</td>\n",
       "      <td>1</td>\n",
       "    </tr>\n",
       "    <tr>\n",
       "      <th>2</th>\n",
       "      <td>49</td>\n",
       "      <td>male</td>\n",
       "      <td>single</td>\n",
       "      <td>2</td>\n",
       "      <td>own</td>\n",
       "      <td>3</td>\n",
       "      <td>unskilled - resident</td>\n",
       "      <td>4</td>\n",
       "      <td>7</td>\n",
       "      <td>1</td>\n",
       "      <td>Low</td>\n",
       "      <td>0</td>\n",
       "      <td>0</td>\n",
       "      <td>d68d995c-edad-11ea-814a-1b6716782575</td>\n",
       "      <td>12</td>\n",
       "      <td>education</td>\n",
       "      <td>2096000</td>\n",
       "      <td>2</td>\n",
       "      <td>real estate</td>\n",
       "      <td>0</td>\n",
       "      <td>0</td>\n",
       "      <td>1</td>\n",
       "      <td>critical/pending loans at other banks</td>\n",
       "      <td>0</td>\n",
       "    </tr>\n",
       "    <tr>\n",
       "      <th>3</th>\n",
       "      <td>45</td>\n",
       "      <td>male</td>\n",
       "      <td>single</td>\n",
       "      <td>2</td>\n",
       "      <td>for free</td>\n",
       "      <td>4</td>\n",
       "      <td>skilled employee / official</td>\n",
       "      <td>4</td>\n",
       "      <td>7</td>\n",
       "      <td>1</td>\n",
       "      <td>Low</td>\n",
       "      <td>0</td>\n",
       "      <td>0</td>\n",
       "      <td>d68d99fc-edad-11ea-8841-17e8848060ae</td>\n",
       "      <td>42</td>\n",
       "      <td>FF&amp;E</td>\n",
       "      <td>7882000</td>\n",
       "      <td>2</td>\n",
       "      <td>building society savings agreement/life insurance</td>\n",
       "      <td>0</td>\n",
       "      <td>1</td>\n",
       "      <td>1</td>\n",
       "      <td>existing loans paid back duly till now</td>\n",
       "      <td>0</td>\n",
       "    </tr>\n",
       "    <tr>\n",
       "      <th>4</th>\n",
       "      <td>53</td>\n",
       "      <td>male</td>\n",
       "      <td>single</td>\n",
       "      <td>2</td>\n",
       "      <td>for free</td>\n",
       "      <td>4</td>\n",
       "      <td>skilled employee / official</td>\n",
       "      <td>1</td>\n",
       "      <td>4</td>\n",
       "      <td>1</td>\n",
       "      <td>Low</td>\n",
       "      <td>0</td>\n",
       "      <td>0</td>\n",
       "      <td>d68d9a92-edad-11ea-9f3d-1f8682db006a</td>\n",
       "      <td>24</td>\n",
       "      <td>new vehicle</td>\n",
       "      <td>4870000</td>\n",
       "      <td>3</td>\n",
       "      <td>car or other</td>\n",
       "      <td>0</td>\n",
       "      <td>0</td>\n",
       "      <td>2</td>\n",
       "      <td>delay in paying off loans in the past</td>\n",
       "      <td>1</td>\n",
       "    </tr>\n",
       "  </tbody>\n",
       "</table>\n",
       "</div>"
      ],
      "text/plain": [
       "   Primary_applicant_age_in_years  Gender              Marital_status  \\\n",
       "0                              67    male                      single   \n",
       "1                              22  female  divorced/separated/married   \n",
       "2                              49    male                      single   \n",
       "3                              45    male                      single   \n",
       "4                              53    male                      single   \n",
       "\n",
       "   Number_of_dependents   Housing  Years_at_current_residence  \\\n",
       "0                     1       own                           4   \n",
       "1                     1       own                           2   \n",
       "2                     2       own                           3   \n",
       "3                     2  for free                           4   \n",
       "4                     2  for free                           4   \n",
       "\n",
       "             Employment_status  Has_been_employed_for_at_least  \\\n",
       "0  skilled employee / official                               7   \n",
       "1  skilled employee / official                               1   \n",
       "2         unskilled - resident                               4   \n",
       "3  skilled employee / official                               4   \n",
       "4  skilled employee / official                               1   \n",
       "\n",
       "   Has_been_employed_for_at_most  Foreign_worker Savings_account_balance  \\\n",
       "0                              0               1                     Low   \n",
       "1                              4               1                     Low   \n",
       "2                              7               1                     Low   \n",
       "3                              7               1                     Low   \n",
       "4                              4               1                     Low   \n",
       "\n",
       "   Balance_in_existing_bank_account_(lower_limit_of_bucket)  \\\n",
       "0                                                  0          \n",
       "1                                                  0          \n",
       "2                                                  0          \n",
       "3                                                  0          \n",
       "4                                                  0          \n",
       "\n",
       "   Balance_in_existing_bank_account_(upper_limit_of_bucket)  \\\n",
       "0                                                  0          \n",
       "1                                                  2          \n",
       "2                                                  0          \n",
       "3                                                  0          \n",
       "4                                                  0          \n",
       "\n",
       "                    loan_application_id  Months_loan_taken_for  \\\n",
       "0  d68d975e-edad-11ea-8761-1d6f9c1ff461                      6   \n",
       "1  d68d989e-edad-11ea-b1d5-2bcf65006448                     48   \n",
       "2  d68d995c-edad-11ea-814a-1b6716782575                     12   \n",
       "3  d68d99fc-edad-11ea-8841-17e8848060ae                     42   \n",
       "4  d68d9a92-edad-11ea-9f3d-1f8682db006a                     24   \n",
       "\n",
       "                Purpose  Principal_loan_amount  \\\n",
       "0  electronic equipment                1169000   \n",
       "1  electronic equipment                5951000   \n",
       "2             education                2096000   \n",
       "3                  FF&E                7882000   \n",
       "4           new vehicle                4870000   \n",
       "\n",
       "   EMI_rate_in_percentage_of_disposable_income  \\\n",
       "0                                            4   \n",
       "1                                            2   \n",
       "2                                            2   \n",
       "3                                            2   \n",
       "4                                            3   \n",
       "\n",
       "                                            Property  Has_coapplicant  \\\n",
       "0                                        real estate                0   \n",
       "1                                        real estate                0   \n",
       "2                                        real estate                0   \n",
       "3  building society savings agreement/life insurance                0   \n",
       "4                                       car or other                0   \n",
       "\n",
       "   Has_guarantor  Number_of_existing_loans_at_this_bank  \\\n",
       "0              0                                      2   \n",
       "1              0                                      1   \n",
       "2              0                                      1   \n",
       "3              1                                      1   \n",
       "4              0                                      2   \n",
       "\n",
       "                             Loan_history  high_risk_applicant  \n",
       "0   critical/pending loans at other banks                    0  \n",
       "1  existing loans paid back duly till now                    1  \n",
       "2   critical/pending loans at other banks                    0  \n",
       "3  existing loans paid back duly till now                    0  \n",
       "4   delay in paying off loans in the past                    1  "
      ]
     },
     "execution_count": 40,
     "metadata": {},
     "output_type": "execute_result"
    }
   ],
   "source": [
    "data4.head()"
   ]
  },
  {
   "cell_type": "code",
   "execution_count": 41,
   "id": "108c10c8",
   "metadata": {},
   "outputs": [],
   "source": [
    "data4.to_csv('d:part2.csv')"
   ]
  },
  {
   "cell_type": "code",
   "execution_count": null,
   "id": "9d0e26c7",
   "metadata": {},
   "outputs": [],
   "source": []
  }
 ],
 "metadata": {
  "kernelspec": {
   "display_name": "Python 3 (ipykernel)",
   "language": "python",
   "name": "python3"
  },
  "language_info": {
   "codemirror_mode": {
    "name": "ipython",
    "version": 3
   },
   "file_extension": ".py",
   "mimetype": "text/x-python",
   "name": "python",
   "nbconvert_exporter": "python",
   "pygments_lexer": "ipython3",
   "version": "3.9.12"
  },
  "vscode": {
   "interpreter": {
    "hash": "ad2bdc8ecc057115af97d19610ffacc2b4e99fae6737bb82f5d7fb13d2f2c186"
   }
  }
 },
 "nbformat": 4,
 "nbformat_minor": 5
}
